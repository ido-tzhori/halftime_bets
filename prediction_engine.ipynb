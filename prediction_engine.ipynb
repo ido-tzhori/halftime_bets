{
 "cells": [
  {
   "cell_type": "code",
   "execution_count": 6,
   "id": "02ab470a-a4eb-4150-825e-437dc2d2bbe5",
   "metadata": {},
   "outputs": [],
   "source": [
    "import pandas as pd\n",
    "# pd.reset_option(\"all\")\n",
    "pd.set_option('display.max_columns', None)\n",
    "# pd.set_option('display.max_rows', None)\n",
    "pd.options.display.max_seq_items = 2000\n",
    "import numpy as np\n",
    "import seaborn as sns\n",
    "from sklearn.model_selection import train_test_split\n",
    "from sklearn.preprocessing import StandardScaler, OneHotEncoder\n",
    "import matplotlib.pyplot as plt\n",
    "from collections import Counter\n",
    "\n",
    "from sklearn.feature_selection import RFECV\n",
    "from sklearn.model_selection import StratifiedKFold\n",
    "\n",
    "from sklearn.model_selection import GridSearchCV\n",
    "from sklearn.metrics import make_scorer\n",
    "from sklearn.linear_model import LogisticRegression\n",
    "from sklearn.ensemble import RandomForestClassifier\n",
    "from sklearn.svm import SVC\n",
    "from sklearn.neighbors import KNeighborsClassifier\n",
    "from sklearn.tree import DecisionTreeClassifier\n",
    "from sklearn.naive_bayes import GaussianNB\n",
    "\n",
    "from tqdm import tqdm\n",
    "from sklearn.model_selection import ParameterGrid,cross_val_score"
   ]
  },
  {
   "cell_type": "code",
   "execution_count": 7,
   "id": "bc18f008-582b-4b8c-b2ed-a0be5efe4760",
   "metadata": {},
   "outputs": [],
   "source": [
    "df = pd.read_csv('final_df.csv', index_col = [0])"
   ]
  },
  {
   "cell_type": "code",
   "execution_count": 9,
   "id": "ff597d2a-0dc0-41aa-91a4-46b7c00c6401",
   "metadata": {},
   "outputs": [
    {
     "name": "stdout",
     "output_type": "stream",
     "text": [
      "training\f",
      " (1711, 134) (1711,)\n",
      "validation:\f",
      " (526, 134) (526,)\n",
      "test\f",
      " (396, 134) (396,)\n"
     ]
    }
   ],
   "source": [
    "clf = LogisticRegression(C=10, penalty='l1', solver='liblinear')\n",
    "feature_cols = [col for col in df.columns if col != 'target']\n",
    "X = df[feature_cols]\n",
    "y = df['target']\n",
    "indices = [i for i, x in enumerate(X.columns) if x in ['mean_0','mean_1', 'mean_2']]\n",
    "outcomes = [\"draw    \", \"home win\", \"away win\"]\n",
    "\n",
    "X_train, X_intermediate, y_train, y_intermediate = train_test_split(X, y, test_size=0.35, random_state=1)\n",
    "X_val, X_test, y_val, y_test = train_test_split(X_intermediate, y_intermediate, test_size=(0.15/0.35), random_state=1)\n",
    "\n",
    "print(f\"training\\f\", X_train.shape, y_train.shape)\n",
    "print(f\"validation:\\f\", X_val.shape, y_val.shape)\n",
    "print(f\"test\\f\", X_test.shape, y_test.shape)"
   ]
  },
  {
   "cell_type": "code",
   "execution_count": 27,
   "id": "cc7c0e70-7c1f-477e-bc1c-73163c0f2bfa",
   "metadata": {},
   "outputs": [
    {
     "ename": "AttributeError",
     "evalue": "'GridSearchCV' object has no attribute 'best_results_'",
     "output_type": "error",
     "traceback": [
      "\u001b[0;31m---------------------------------------------------------------------------\u001b[0m",
      "\u001b[0;31mAttributeError\u001b[0m                            Traceback (most recent call last)",
      "\u001b[0;32m<ipython-input-27-609a56617f91>\u001b[0m in \u001b[0;36m<module>\u001b[0;34m\u001b[0m\n\u001b[0;32m----> 1\u001b[0;31m \u001b[0mgrid_search\u001b[0m\u001b[0;34m.\u001b[0m\u001b[0mbest_results_\u001b[0m\u001b[0;34m\u001b[0m\u001b[0;34m\u001b[0m\u001b[0m\n\u001b[0m",
      "\u001b[0;31mAttributeError\u001b[0m: 'GridSearchCV' object has no attribute 'best_results_'"
     ]
    }
   ],
   "source": [
    "grid_search.best_results_"
   ]
  },
  {
   "cell_type": "code",
   "execution_count": 28,
   "id": "bab8eb5a-5c9b-4e9e-a87e-0a2b97740c3e",
   "metadata": {},
   "outputs": [],
   "source": [
    "profit_scorer = make_scorer(profit_score, greater_is_better=True, needs_proba=True, mean_index=indices, original_data=X_train)\n",
    "\n",
    "# Define the logistic regression model\n",
    "logreg = LogisticRegression()\n",
    "\n",
    "# Define the parameter grid for the logistic regression model\n",
    "param_grid = {\n",
    "    'penalty': ['l1', 'l2', 'elasticnet', 'none'],\n",
    "    'C': [0.001, 0.01, 0.1, 1, 10, 100],\n",
    "    'solver': ['newton-cg', 'lbfgs', 'liblinear', 'sag', 'saga']\n",
    "}\n",
    "\n",
    "# Perform grid search on the logistic regression model\n",
    "grid_search = GridSearchCV(logreg, param_grid, cv=5, scoring=profit_scorer)\n",
    "grid_search.fit(X_val, y_val)\n",
    "\n",
    "# Print the best parameters found\n",
    "print(grid_search.best_params_)\n",
    "\n",
    "# Train the logistic regression model with the best parameters found\n",
    "best_logreg = LogisticRegression(**grid_search.best_params_)\n",
    "best_logreg.fit(X_train, y_train)\n",
    "\n",
    "# Evaluate the model on the test data\n",
    "test_score = profit_score(y_test, best_logreg.predict_proba(X_test), mean_index=indices, original_data=X_test)\n",
    "print(f\"Profit on test data: {test_score}\")\n"
   ]
  },
  {
   "cell_type": "code",
   "execution_count": 4,
   "id": "b70b104a-56a3-48bf-9602-794d1ea37798",
   "metadata": {},
   "outputs": [],
   "source": [
    "def profit_score(y_true, y_pred_proba, **kwargs):\n",
    "    mean_index = kwargs.get('mean_index')\n",
    "    original_data = kwargs.get('original_data')\n",
    "    alpha = kwargs.get('alpha', np.array([0.057, 0.034, 0.037]))\n",
    "#     alpha = kwargs.get('alpha', np.array([0.0, 0.0, 0.0]))\n",
    "    bankroll = kwargs.get('bankroll', 10000)\n",
    "    kelly_fraction = kwargs.get('kelly_fraction', 0.025)\n",
    "    outcomes = [\"draw    \", \"home win\", \"away win\"]\n",
    "\n",
    "    total_profit = 0\n",
    "    actual_outcomes = y_true.to_numpy()\n",
    "\n",
    "    for i in range(len(y_pred_proba)):\n",
    "        features = original_data.iloc[i]\n",
    "        odds = np.array([features[mean_index[0]], features[mean_index[1]], features[mean_index[2]]])\n",
    "        pred_probs = y_pred_proba[i]\n",
    "        implied_probs = 1 / odds\n",
    "        diffs = pred_probs - implied_probs\n",
    "        j = np.argmax(diffs)\n",
    "\n",
    "        if diffs[j] > alpha[j]:\n",
    "            bet_fraction = kelly_fraction * (pred_probs[j] * odds[j] - (1 - pred_probs[j])) / (odds[j])\n",
    "            bet_amount = bet_fraction * bankroll\n",
    "\n",
    "            if actual_outcomes[i] == j:\n",
    "                profit = (odds[j] - 1) * bet_amount\n",
    "            else:\n",
    "                profit = -bet_amount\n",
    "\n",
    "            bankroll += profit\n",
    "            total_profit += profit\n",
    "\n",
    "#             print(f\"bankroll: {bankroll:.1f} - game: {i+1} - outcome: {outcomes[actual_outcomes[i]]} - bet: {outcomes[j]} - pred prob: {pred_probs[j]:.3f} - given prob: {implied_probs[j]:.3f} - odds: {odds[j]:.3f} - bet size: {bet_amount:.3f} - profit/Loss: {profit:.3f}\")\n",
    "\n",
    "    return total_profit\n",
    "\n",
    "profit_scorer = make_scorer(profit_score, greater_is_better=True, needs_proba=True, mean_index=indices, original_data=X_train)"
   ]
  },
  {
   "cell_type": "code",
   "execution_count": 20,
   "id": "3838bed7-a081-4d20-8ccd-482cb7e081af",
   "metadata": {},
   "outputs": [
    {
     "name": "stdout",
     "output_type": "stream",
     "text": [
      "Fitting 5 folds for each of 40 candidates, totalling 200 fits\n"
     ]
    },
    {
     "name": "stderr",
     "output_type": "stream",
     "text": [
      "/shared/centos7/anaconda3/2021.07-TF/lib/python3.8/site-packages/sklearn/model_selection/_search.py:918: UserWarning: One or more of the test scores are non-finite: [2.30083247e+10            nan            nan            nan\n",
      " 3.55604003e+10 2.63068869e+10 2.45332425e+10 2.21855041e+10\n",
      " 3.36314286e+10 3.40362497e+10 2.85495949e+10            nan\n",
      "            nan            nan 3.52451242e+10 2.84199042e+10\n",
      " 4.45854231e+10 2.59308317e+10 3.37589134e+10 3.40809200e+10\n",
      " 4.11824967e+10            nan            nan            nan\n",
      " 3.39698787e+10 4.09434300e+10 4.30336722e+10 1.91825162e+10\n",
      " 3.52223082e+10 3.40161057e+10 4.01866327e+10            nan\n",
      "            nan            nan 3.41318077e+10 3.99973616e+10\n",
      " 4.32693288e+10 2.23424941e+10 3.37386337e+10 3.38391528e+10]\n",
      "  warnings.warn(\n"
     ]
    },
    {
     "name": "stdout",
     "output_type": "stream",
     "text": [
      "Best Parameters:  {'C': 1, 'penalty': 'l2', 'solver': 'newton-cg'}\n",
      "Best Score on test set:  -1380.1034602803475\n"
     ]
    },
    {
     "name": "stderr",
     "output_type": "stream",
     "text": [
      "/shared/centos7/anaconda3/2021.07-TF/lib/python3.8/site-packages/sklearn/utils/optimize.py:202: ConvergenceWarning: newton-cg failed to converge. Increase the number of iterations.\n",
      "  warnings.warn(\"newton-cg failed to converge. Increase the \"\n"
     ]
    }
   ],
   "source": [
    "param_grid = {\n",
    "    'C': [0.1, 1, 10, 100],\n",
    "    'penalty': ['l1', 'l2'],\n",
    "    'solver': ['liblinear', 'newton-cg', 'lbfgs', 'sag', 'saga'],\n",
    "#     'max_iter': [100,1000,10000,100000]\n",
    "}\n",
    "\n",
    "logreg = LogisticRegression()\n",
    "\n",
    "grid_search = GridSearchCV(estimator=logreg, param_grid=param_grid, scoring=profit_scorer, cv=5, n_jobs=-1, verbose = 10)\n",
    "grid_search.fit(X_train, y_train)\n",
    "\n",
    "profit_scorer_test = make_scorer(profit_score, greater_is_better=True, needs_proba=True, mean_index=indices, original_data=X_test)\n",
    "\n",
    "print(\"Best Parameters: \", grid_search.best_params_)\n",
    "print(\"Best Score on test set: \", profit_scorer_test(grid_search.best_estimator_, X_test, y_test))"
   ]
  },
  {
   "cell_type": "code",
   "execution_count": 8,
   "id": "682f7102-107c-4d74-aa9a-cb4c6445d12a",
   "metadata": {},
   "outputs": [],
   "source": [
    "class TqdmScore:\n",
    "    def __init__(self, n_splits):\n",
    "        self.bar = tqdm(total=n_splits)\n",
    "        \n",
    "    def __call__(self, estimator, X, y):\n",
    "        score = accuracy_score(y, estimator.predict(X))\n",
    "        self.bar.update()\n",
    "        return score\n",
    "\n",
    "def select_features(X, y, model):\n",
    "    feature_sets = {}\n",
    "\n",
    "    rfecv = RFECV(estimator=model, step=1, cv=StratifiedKFold(2),\n",
    "                  scoring='f1',\n",
    "                  min_features_to_select=25)\n",
    "    rfecv.fit(X, y)\n",
    "\n",
    "    selected_features_rfe = [f for f, s in zip(X.columns, rfecv.support_) if s]\n",
    "    feature_sets['rfe'] = {'features': selected_features_rfe, 'score': rfecv.grid_scores_[-1]}\n",
    "\n",
    "    mi_selector = SelectKBest(score_func=mutual_info_classif, k=10)\n",
    "    mi_selector.fit(X, y)\n",
    "\n",
    "    selected_features_mi = [f for f, s in zip(X.columns, mi_selector.get_support()) if s]\n",
    "    feature_sets['mutual_info'] = {'features': selected_features_mi, 'score': mi_selector.scores_}\n",
    "\n",
    "    corr_matrix = X.corr().abs()\n",
    "    high_corr_vars = [column for column in corr_matrix.columns if any(corr_matrix[column] > 0.75)]\n",
    "    \n",
    "    selected_features_corr = high_corr_vars\n",
    "    feature_sets['correlation'] = {'features': selected_features_corr, 'score': np.mean([corr_matrix.loc[f, f] for f in high_corr_vars])}\n",
    "\n",
    "    return feature_sets"
   ]
  },
  {
   "cell_type": "code",
   "execution_count": null,
   "id": "b9c029b8-de64-4ded-9550-d8152bf60d7d",
   "metadata": {},
   "outputs": [],
   "source": []
  },
  {
   "cell_type": "code",
   "execution_count": 15,
   "id": "a242660e-380c-41a4-baeb-c0992bdb5bbc",
   "metadata": {},
   "outputs": [
    {
     "name": "stderr",
     "output_type": "stream",
     "text": [
      "83it [45:21, 32.79s/it]\n"
     ]
    },
    {
     "data": {
      "image/png": "[encoded data removed]",
      "text/plain": [
       "<Figure size 432x288 with 1 Axes>"
      ]
     },
     "metadata": {
      "needs_background": "light"
     },
     "output_type": "display_data"
    }
   ],
   "source": [
    "n_scores = len(rfecv.grid_scores_)\n",
    "plt.figure()\n",
    "plt.xlabel(\"Number of features selected\")\n",
    "plt.ylabel(\"Cross-validation score (accuracy)\")\n",
    "plt.plot(range(1, n_scores + 1), rfecv.grid_scores_)\n",
    "plt.title(\"Recursive Feature Elimination \\nwith cross-validation\")\n",
    "plt.show()"
   ]
  },
  {
   "cell_type": "code",
   "execution_count": 23,
   "id": "9f8cd123-e327-43a1-8589-2ce2ff8a7f88",
   "metadata": {
    "tags": []
   },
   "outputs": [],
   "source": [
    "def create_nn():\n",
    "    model = Sequential()\n",
    "    model.add(Dense(units=64, activation='relu', input_dim=X_train.shape[1]))\n",
    "    model.add(Dense(units=32, activation='relu'))\n",
    "    model.add(Dense(units=3, activation='softmax'))  # Assuming a multi-class problem with 3 classes\n",
    "\n",
    "    model.compile(loss='categorical_crossentropy', optimizer='adam', metrics=['accuracy'])\n",
    "\n",
    "    return model\n",
    "\n",
    "class ProbKerasClassifier(KerasClassifier):\n",
    "    def predict(self, X, **kwargs):\n",
    "        \"\"\"Override the predict method to return class probabilities\"\"\"\n",
    "        return super().predict_proba(X)\n",
    "\n",
    "neural_net = {\n",
    "    'model_type': 'Neural Network',\n",
    "    'model': ProbKerasClassifier(build_fn=create_nn, verbose=0),\n",
    "    'params': {'epochs': [50, 100, 200], 'batch_size': [10, 50, 100]}\n",
    "}"
   ]
  },
  {
   "cell_type": "code",
   "execution_count": 16,
   "id": "2a55aaf4-e1de-4a04-a53c-18a67abc33de",
   "metadata": {},
   "outputs": [],
   "source": [
    "model_param_dict_list = [\n",
    "    {\n",
    "        'model_type': 'Logistic Regression',\n",
    "        'model': LogisticRegression(),\n",
    "        'params': {'C': [0.1, 1, 10], 'penalty': ['l1', 'l2'], 'solver': ['liblinear']}\n",
    "    },\n",
    "    {\n",
    "        'model_type': 'Random Forest',\n",
    "        'model': RandomForestClassifier(),\n",
    "        'params': {'n_estimators': [100, 500, 1000], 'max_depth': [5, 10, 20], 'min_samples_leaf': [2, 5, 10]}\n",
    "    },\n",
    "    {\n",
    "        'model_type': 'Support Vector Classifier',\n",
    "        'model': SVC(probability=True),  # Enable probability estimates. This must be enabled prior to calling fit\n",
    "        'params': {'C': [0.1, 1, 10], 'gamma': [0.01, 0.1, 1], 'kernel': ['linear', 'rbf']}\n",
    "    },\n",
    "    {\n",
    "        'model_type': 'K-Nearest Neighbors',\n",
    "        'model': KNeighborsClassifier(),\n",
    "        'params': {'n_neighbors': [3, 5, 11], 'weights': ['uniform', 'distance']}\n",
    "    },\n",
    "    {\n",
    "        'model_type': 'Decision Tree',\n",
    "        'model': DecisionTreeClassifier(),\n",
    "        'params': {'criterion': ['gini', 'entropy'], 'max_depth': [5, 10, 20], 'min_samples_leaf': [2, 5, 10]}\n",
    "    },\n",
    "    {\n",
    "        'model_type': 'Gaussian Naive Bayes',\n",
    "        'model': GaussianNB(),\n",
    "        'params': {}  # GaussianNB does not have hyperparameters to tune\n",
    "    },\n",
    "]"
   ]
  },
  {
   "cell_type": "code",
   "execution_count": 13,
   "id": "c08802e1-4931-4e55-90d9-6039c3dd9a31",
   "metadata": {},
   "outputs": [],
   "source": [
    "def optimize_model(X, y, original_data, models, feature_sets, hyperparameters, alpha=np.array([0.057, 0.034, 0.037]), bankroll=10000, kelly_fraction=0.025):\n",
    "    best_profit = float('-inf')\n",
    "    best_model = None\n",
    "    best_features = None\n",
    "    best_hyperparameters = None\n",
    "\n",
    "    for model in models:\n",
    "        for features in feature_sets:\n",
    "            X_subset = X[features]\n",
    "            original_data_subset = original_data[features]\n",
    "\n",
    "            for hyperparams in hyperparameters:\n",
    "                # train the model with these hyperparameters\n",
    "                model.set_params(**hyperparams)\n",
    "                model.fit(X_subset, y)\n",
    "\n",
    "                # calculate the profit\n",
    "                profit = profit_score(model, X_subset, y, original_data_subset, alpha, bankroll, kelly_fraction)\n",
    "\n",
    "                # if this model/feature set/hyperparameters is the best so far, save it\n",
    "                if profit > best_profit:\n",
    "                    best_profit = profit\n",
    "                    best_model = model\n",
    "                    best_features = features\n",
    "                    best_hyperparameters = hyperparams\n",
    "\n",
    "    return best_model, best_features, best_hyperparameters, best_profit"
   ]
  },
  {
   "cell_type": "code",
   "execution_count": 7,
   "id": "361e0318-a108-4357-85ca-52d1b2d3ec6b",
   "metadata": {},
   "outputs": [
    {
     "name": "stdout",
     "output_type": "stream",
     "text": [
      "Epoch 1/10\n",
      "58/58 [==============================] - 0s 6ms/step - loss: 1.0419 - accuracy: 0.4753 - val_loss: 1.0045 - val_accuracy: 0.5835\n",
      "Epoch 2/10\n",
      "58/58 [==============================] - 0s 3ms/step - loss: 0.9630 - accuracy: 0.6050 - val_loss: 0.9826 - val_accuracy: 0.5747\n",
      "Epoch 3/10\n",
      "58/58 [==============================] - 0s 3ms/step - loss: 0.9080 - accuracy: 0.6375 - val_loss: 0.9559 - val_accuracy: 0.5835\n",
      "Epoch 4/10\n",
      "58/58 [==============================] - 0s 3ms/step - loss: 0.8418 - accuracy: 0.6636 - val_loss: 0.9143 - val_accuracy: 0.5873\n",
      "Epoch 5/10\n",
      "58/58 [==============================] - 0s 3ms/step - loss: 0.7389 - accuracy: 0.6907 - val_loss: 0.9488 - val_accuracy: 0.5506\n",
      "Epoch 6/10\n",
      "58/58 [==============================] - 0s 3ms/step - loss: 0.6568 - accuracy: 0.7417 - val_loss: 0.9749 - val_accuracy: 0.5620\n",
      "Epoch 7/10\n",
      "58/58 [==============================] - 0s 3ms/step - loss: 0.5862 - accuracy: 0.7786 - val_loss: 1.0516 - val_accuracy: 0.5595\n",
      "Epoch 8/10\n",
      "58/58 [==============================] - 0s 3ms/step - loss: 0.5130 - accuracy: 0.8123 - val_loss: 1.0665 - val_accuracy: 0.5722\n",
      "Epoch 9/10\n",
      "58/58 [==============================] - 0s 3ms/step - loss: 0.4470 - accuracy: 0.8372 - val_loss: 1.1466 - val_accuracy: 0.5658\n",
      "Epoch 10/10\n",
      "58/58 [==============================] - 0s 3ms/step - loss: 0.3945 - accuracy: 0.8633 - val_loss: 1.2393 - val_accuracy: 0.5658\n",
      "Total profit: -5756.984396716226\n",
      "Average bet odds: 3.409890767834025\n",
      "Number of bets placed: 655\n",
      "Number of bets won: 290\n",
      "Win rate: 44.27%\n",
      "Average bet size when won: 117.59389791840465\n",
      "Average bet size when lost: 92.90818097154101\n",
      "Average odds when won: 2.080415909323714\n",
      "Average odds when lost: 4.466185860897013\n"
     ]
    },
    {
     "data": {
      "image/png": "[encoded data removed]",
      "text/plain": [
       "<Figure size 864x432 with 1 Axes>"
      ]
     },
     "metadata": {
      "needs_background": "light"
     },
     "output_type": "display_data"
    }
   ],
   "source": [
    "# Bankroll Kelly\n",
    "\n",
    "feature_cols = [col for col in df.columns if col != 'target']\n",
    "X = df[feature_cols]\n",
    "y = df['target']\n",
    "\n",
    "X_train_df, X_test_df, y_train_series, y_test_series = train_test_split(X, y, test_size=0.3, random_state=42)\n",
    "\n",
    "scaler = StandardScaler()\n",
    "X_train = scaler.fit_transform(X_train_df)\n",
    "X_test = scaler.transform(X_test_df)\n",
    "\n",
    "encoder = OneHotEncoder()\n",
    "y_train = encoder.fit_transform(y_train_series.values.reshape(-1, 1)).toarray()\n",
    "y_test = encoder.transform(y_test_series.values.reshape(-1, 1)).toarray()\n",
    "\n",
    "model = Sequential()\n",
    "model.add(Dense(256, input_dim=X_train.shape[1], activation='relu'))\n",
    "model.add(Dense(8, activation='relu'))\n",
    "model.add(Dense(8, activation='relu'))\n",
    "model.add(Dense(8, activation='relu'))\n",
    "model.add(Dense(3, activation='softmax'))\n",
    "\n",
    "model.compile(loss='categorical_crossentropy', optimizer=Adam(), metrics=['accuracy'])\n",
    "model.fit(X_train, y_train, validation_data=(X_test, y_test), epochs=10, batch_size=32)\n",
    "\n",
    "def predict_percentages(model, X):\n",
    "    pred = model.predict(X)\n",
    "    return pred / 1\n",
    "\n",
    "predictions = predict_percentages(model, X_test)\n",
    "\n",
    "profits = []\n",
    "total_profit = 0\n",
    "bets_odds = []\n",
    "bets_count = 0\n",
    "actual_outcomes = np.argmax(y_test, axis=1)\n",
    "alpha = np.array([0.057, 0.034, 0.037])\n",
    "# alpha = np.array([0.,0.,0.])\n",
    "\n",
    "bankroll = 10000\n",
    "kelly_fraction = 0.025\n",
    "outcomes = [\"draw    \", \"home win\", \"away win\"]\n",
    "\n",
    "bets_won = []\n",
    "bets_lost = []\n",
    "\n",
    "odds_won = []\n",
    "odds_lost = []\n",
    "\n",
    "for i in range(len(X_test_df)):\n",
    "    idx = X_test_df.index[i]\n",
    "    odds = df.loc[idx, ['mean_0', 'mean_1', 'mean_2']].values\n",
    "    pred_probs = predictions[i]\n",
    "    implied_probs = 1 / odds\n",
    "\n",
    "    diffs = pred_probs - implied_probs\n",
    "    j = np.argmax(diffs)\n",
    "\n",
    "    if diffs[j] > alpha[j]:  # if the largest difference is greater than alpha\n",
    "        bet_fraction = kelly_fraction * (pred_probs[j] * odds[j] - (1 - pred_probs[j])) / (odds[j])\n",
    "        bet_amount = bet_fraction * bankroll\n",
    "        bets_odds.append(odds[j])\n",
    "        bets_count += 1\n",
    "        actual_outcome = actual_outcomes[i]\n",
    "\n",
    "        if actual_outcome == j:\n",
    "            profit = (odds[j] - 1) * bet_amount\n",
    "            bankroll += profit\n",
    "            bets_won.append(bet_amount)\n",
    "            odds_won.append(odds[j])\n",
    "#             print(f\"W {bankroll:.1f} - SD: {df.loc[idx, ['score_diff']][0]}\\f - game: {i+1}\\f outcome: {outcomes[actual_outcome]}\\f - bet: {outcomes[j]}\\f - pred prob: {pred_probs[j]:.3f}\\f - given prob: {implied_probs[j]:.3f}\\f - odds {odds[j]:.3f}\\f - bet size: {bet_amount:.3f}\\f - profit/loss: {profit:.3f}\")\n",
    "        else:\n",
    "            profit = -bet_amount\n",
    "            bankroll += profit\n",
    "            bets_lost.append(bet_amount)\n",
    "            odds_lost.append(odds[j])\n",
    "#             print(f\"L {bankroll:.1f} - SD: {df.loc[idx, ['score_diff']][0]}\\f - game: {i+1}\\f outcome: {outcomes[actual_outcome]}\\f - bet: {outcomes[j]}\\f - pred prob: {pred_probs[j]:.3f}\\f - given prob: {implied_probs[j]:.3f}\\f - odds {odds[j]:.3f}\\f - bet size: {bet_amount:.3f}\\f - profit/loss: {profit:.3f}\")\n",
    "\n",
    "        profits.append(profit)\n",
    "        total_profit += profit\n",
    "\n",
    "num_wins = len(bets_won)\n",
    "win_rate = num_wins / bets_count if bets_count > 0 else 0\n",
    "\n",
    "print('Total profit:', total_profit)\n",
    "print('Average bet odds:', np.mean(bets_odds))\n",
    "print('Number of bets placed:', bets_count)\n",
    "print('Number of bets won:', num_wins)\n",
    "print('Win rate:', f'{win_rate*100:.2f}%')\n",
    "print('Average bet size when won:', np.mean(bets_won))\n",
    "print('Average bet size when lost:', np.mean(bets_lost))\n",
    "print('Average odds when won:', np.mean(odds_won))\n",
    "print('Average odds when lost:', np.mean(odds_lost))\n",
    "\n",
    "\n",
    "plt.figure(figsize=(12,6))\n",
    "plt.plot(np.cumsum(profits))\n",
    "plt.title('Total Profit Over Time')\n",
    "plt.xlabel('Number of Bets')\n",
    "plt.ylabel('Total Profit')\n",
    "plt.show()"
   ]
  },
  {
   "cell_type": "code",
   "execution_count": null,
   "id": "3283a751-69d5-45dd-a06a-733ee4a51220",
   "metadata": {},
   "outputs": [],
   "source": []
  }
 ],
 "metadata": {
  "kernelspec": {
   "display_name": "Python 3 (ipykernel)",
   "language": "python",
   "name": "python3"
  },
  "language_info": {
   "codemirror_mode": {
    "name": "ipython",
    "version": 3
   },
   "file_extension": ".py",
   "mimetype": "text/x-python",
   "name": "python",
   "nbconvert_exporter": "python",
   "pygments_lexer": "ipython3",
   "version": "3.11.4"
  }
 },
 "nbformat": 4,
 "nbformat_minor": 5
}
