{
 "cells": [
  {
   "cell_type": "code",
   "execution_count": 2,
   "id": "75212399-f462-4b2c-b354-e47f807f8b0a",
   "metadata": {
    "tags": []
   },
   "outputs": [],
   "source": [
    "import pandas as pd\n",
    "# pd.reset_option(\"all\")\n",
    "pd.set_option('display.max_columns', None)\n",
    "pd.options.display.max_seq_items = 2000\n",
    "import numpy as np\n",
    "import seaborn as sns\n",
    "\n",
    "from sklearn.model_selection import train_test_split\n",
    "from sklearn.preprocessing import StandardScaler, OneHotEncoder, LabelEncoder\n",
    "import matplotlib.pyplot as plt\n",
    "from collections import Counter\n",
    "\n",
    "from sklearn.feature_selection import RFECV\n",
    "from sklearn.model_selection import StratifiedKFold, GridSearchCV\n",
    "from sklearn.metrics import make_scorer\n",
    "from sklearn.linear_model import LogisticRegression\n",
    "from sklearn.ensemble import RandomForestClassifier\n",
    "from sklearn.svm import SVC\n",
    "from sklearn.neighbors import KNeighborsClassifier\n",
    "from sklearn.tree import DecisionTreeClassifier\n",
    "from sklearn.naive_bayes import GaussianNB\n",
    "\n",
    "from tqdm import tqdm\n",
    "# import xgboost as xgb"
   ]
  },
  {
   "cell_type": "code",
   "execution_count": 3,
   "id": "e33f6a2a-5ee0-450e-b6b8-2e00d93910ed",
   "metadata": {
    "tags": []
   },
   "outputs": [],
   "source": [
    "df = pd.read_csv('data/final_df.csv', index_col = [0])"
   ]
  },
  {
   "cell_type": "code",
   "execution_count": 4,
   "id": "ba9a6603-e768-408f-86ae-a1f90c5a7210",
   "metadata": {
    "tags": []
   },
   "outputs": [],
   "source": [
    "feature_cols = [col for col in df.columns if col != 'target']\n",
    "X = df[feature_cols]\n",
    "y = df['target']"
   ]
  },
  {
   "cell_type": "code",
   "execution_count": 5,
   "id": "1e90dda0-0c2b-4674-94a8-066924698ce6",
   "metadata": {
    "tags": []
   },
   "outputs": [],
   "source": [
    "le = LabelEncoder()\n",
    "y_encoded = le.fit_transform(y)\n",
    "\n",
    "X_train, X_test, y_train, y_test = train_test_split(X, y_encoded, test_size=0.3, random_state=42)\n",
    "odds_test = X_test[['mean_0','mean_1','mean_2']]"
   ]
  },
  {
   "cell_type": "code",
   "execution_count": 60,
   "id": "78303546-c1ee-437c-8975-f637a76aaab9",
   "metadata": {
    "tags": []
   },
   "outputs": [
    {
     "name": "stdout",
     "output_type": "stream",
     "text": [
      "[14:17:16] WARNING: /croot/xgboost-split_1675457761144/work/src/learner.cc:767: \n",
      "Parameters: { \"silent\" } are not used.\n",
      "\n"
     ]
    }
   ],
   "source": [
    "dtrain = xgb.DMatrix(X_train, label=y_train)\n",
    "dtest = xgb.DMatrix(X_test, label=y_test)\n",
    "\n",
    "param = {\n",
    "    'max_depth': 3, \n",
    "    'eta': 0.3,\n",
    "    'silent': 1, \n",
    "    'objective': 'multi:softprob', \n",
    "    'num_class': 3} \n",
    "num_round = 20  \n",
    "\n",
    "bst = xgb.train(param, dtrain, num_round)\n",
    "\n",
    "preds = bst.predict(dtest)\n",
    "\n",
    "preds_labels = le.inverse_transform(preds.argmax(axis=1))"
   ]
  },
  {
   "cell_type": "code",
   "execution_count": 8,
   "id": "d930857b-a158-42ab-bce0-1980422d2ec8",
   "metadata": {
    "tags": []
   },
   "outputs": [],
   "source": [
    "def profit_score(y_true, y_pred_proba, **kwargs):\n",
    "    odds_data = kwargs.get('odds_data')\n",
    "    alpha = kwargs.get('alpha', np.array([0.057, 0.034, 0.037]))\n",
    "#     alpha = kwargs.get('alpha', np.array([0.0, 0.0, 0.0]))\n",
    "    bankroll = kwargs.get('bankroll', 10000)\n",
    "    kelly_fraction = kwargs.get('kelly_fraction', 0.025)\n",
    "    outcomes = [\"draw    \", \"home win\", \"away win\"]\n",
    "\n",
    "    total_profit = 0\n",
    "    actual_outcomes = y_true\n",
    "\n",
    "    for i in range(len(y_pred_proba)):\n",
    "        odds = np.array(odds_data.iloc[i])\n",
    "        pred_probs = y_pred_proba[i]\n",
    "        implied_probs = 1 / odds\n",
    "        diffs = pred_probs - implied_probs\n",
    "        j = np.argmax(diffs)\n",
    "\n",
    "        if diffs[j] > alpha[j]:\n",
    "            bet_fraction = kelly_fraction * (pred_probs[j] * odds[j] - (1 - pred_probs[j])) / (odds[j])\n",
    "            bet_amount = bet_fraction * bankroll\n",
    "\n",
    "            if actual_outcomes[i] == j:\n",
    "                profit = (odds[j] - 1) * bet_amount\n",
    "            else:\n",
    "                profit = -bet_amount\n",
    "\n",
    "            bankroll += profit\n",
    "            total_profit += profit\n",
    "\n",
    "            print(f\"bankroll: {bankroll:.1f} - game: {i+1} - outcome: {outcomes[actual_outcomes[i]]} - bet: {outcomes[j]} - pred prob: {pred_probs[j]:.3f} - given prob: {implied_probs[j]:.3f} - odds: {odds[j]:.3f} - bet size: {bet_amount:.3f} - profit/Loss: {profit:.3f}\")\n",
    "\n",
    "    return total_profit"
   ]
  },
  {
   "cell_type": "code",
   "execution_count": 9,
   "id": "8143e8b7-55db-4309-a5b9-fe91f41b9216",
   "metadata": {
    "tags": []
   },
   "outputs": [],
   "source": [
    "profit = profit_score(y_test, preds, odds_data = odds_test)"
   ]
  },
  {
   "cell_type": "code",
   "execution_count": 61,
   "id": "0112f342-e0c9-45ce-9fcb-e1ebf55bc70c",
   "metadata": {
    "tags": []
   },
   "outputs": [],
   "source": [
    "preds_df = pd.DataFrame(preds, columns = ['pred_0','pred_1','pred_2'])\n",
    "\n",
    "odds_df = X_test[['mean_0','mean_1','mean_2']].apply(lambda x: 1/x)"
   ]
  },
  {
   "cell_type": "code",
   "execution_count": 62,
   "id": "43a6d979-8195-4f52-bd92-f2b684e80b65",
   "metadata": {
    "tags": []
   },
   "outputs": [],
   "source": [
    "po_df = pd.concat([preds_df, odds_df.reset_index(drop = True)], axis = 1)"
   ]
  },
  {
   "cell_type": "code",
   "execution_count": 63,
   "id": "c232f461-025c-4e54-8e88-88e8b93db508",
   "metadata": {
    "tags": []
   },
   "outputs": [],
   "source": [
    "po_df = po_df[['mean_0','pred_0','mean_1','pred_1','mean_2','pred_2']]"
   ]
  },
  {
   "cell_type": "code",
   "execution_count": 64,
   "id": "59913e76-9e2a-4801-841d-58c417be4807",
   "metadata": {
    "tags": []
   },
   "outputs": [],
   "source": [
    "po_df['target'] = y_test"
   ]
  },
  {
   "cell_type": "code",
   "execution_count": null,
   "id": "dcc0a0a6-04b8-4aec-ae95-193b4a746e02",
   "metadata": {},
   "outputs": [],
   "source": []
  }
 ],
 "metadata": {
  "kernelspec": {
   "display_name": "Python 3",
   "language": "python",
   "name": "python3"
  },
  "language_info": {
   "codemirror_mode": {
    "name": "ipython",
    "version": 3
   },
   "file_extension": ".py",
   "mimetype": "text/x-python",
   "name": "python",
   "nbconvert_exporter": "python",
   "pygments_lexer": "ipython3",
   "version": "3.8.8"
  }
 },
 "nbformat": 4,
 "nbformat_minor": 5
}
