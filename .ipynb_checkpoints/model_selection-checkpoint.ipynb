{
 "cells": [
  {
   "cell_type": "code",
   "execution_count": 14,
   "id": "75212399-f462-4b2c-b354-e47f807f8b0a",
   "metadata": {
    "tags": []
   },
   "outputs": [],
   "source": [
    "import pandas as pd\n",
    "# pd.reset_option(\"all\")\n",
    "pd.set_option('display.max_columns', None)\n",
    "pd.options.display.max_seq_items = 2000\n",
    "import numpy as np\n",
    "import seaborn as sns\n",
    "\n",
    "from sklearn.model_selection import train_test_split\n",
    "from sklearn.preprocessing import StandardScaler, OneHotEncoder, LabelEncoder\n",
    "import matplotlib.pyplot as plt\n",
    "from collections import Counter\n",
    "\n",
    "from sklearn.feature_selection import RFECV\n",
    "from sklearn.model_selection import StratifiedKFold, GridSearchCV\n",
    "from sklearn.metrics import make_scorer\n",
    "from sklearn.linear_model import LogisticRegression\n",
    "from sklearn.ensemble import RandomForestClassifier\n",
    "from sklearn.svm import SVC\n",
    "from sklearn.neighbors import KNeighborsClassifier\n",
    "from sklearn.tree import DecisionTreeClassifier\n",
    "from sklearn.naive_bayes import GaussianNB\n",
    "\n",
    "from tqdm import tqdm\n",
    "import xgboost as xgb"
   ]
  },
  {
   "cell_type": "code",
   "execution_count": 9,
   "id": "e33f6a2a-5ee0-450e-b6b8-2e00d93910ed",
   "metadata": {
    "tags": []
   },
   "outputs": [],
   "source": [
    "df = pd.read_csv('final_df.csv', index_col = [0])"
   ]
  },
  {
   "cell_type": "code",
   "execution_count": 10,
   "id": "ba9a6603-e768-408f-86ae-a1f90c5a7210",
   "metadata": {
    "tags": []
   },
   "outputs": [],
   "source": [
    "feature_cols = [col for col in df.columns if col != 'target']\n",
    "X = df[feature_cols]\n",
    "y = df['target']"
   ]
  },
  {
   "cell_type": "code",
   "execution_count": 16,
   "id": "1e90dda0-0c2b-4674-94a8-066924698ce6",
   "metadata": {
    "tags": []
   },
   "outputs": [],
   "source": [
    "le = LabelEncoder()\n",
    "y_encoded = le.fit_transform(y)\n",
    "\n",
    "X_train, X_test, y_train, y_test = train_test_split(X, y_encoded, test_size=0.3, random_state=42)"
   ]
  },
  {
   "cell_type": "code",
   "execution_count": 22,
   "id": "78303546-c1ee-437c-8975-f637a76aaab9",
   "metadata": {
    "tags": []
   },
   "outputs": [
    {
     "data": {
      "text/plain": [
       "array([2, 1, 0, ..., 0, 0, 1])"
      ]
     },
     "execution_count": 22,
     "metadata": {},
     "output_type": "execute_result"
    }
   ],
   "source": [
    "y_train"
   ]
  },
  {
   "cell_type": "code",
   "execution_count": null,
   "id": "d8ee5d27-c8bd-4b37-88a1-f0fe86bbcadb",
   "metadata": {},
   "outputs": [],
   "source": [
    "class TqdmScore:\n",
    "    def __init__(self, n_splits):\n",
    "        self.bar = tqdm(total=n_splits)\n",
    "        \n",
    "    def __call__(self, estimator, X, y):\n",
    "        score = accuracy_score(y, estimator.predict(X))\n",
    "        self.bar.update()\n",
    "        return score\n",
    "\n",
    "def select_features(X, y, model):\n",
    "    feature_sets = {}\n",
    "\n",
    "    rfecv = RFECV(estimator=model, step=1, cv=StratifiedKFold(2),\n",
    "                  scoring='accuracy',\n",
    "                  min_features_to_select=30)\n",
    "    rfecv.fit(X, y)\n",
    "\n",
    "    selected_features_rfe = [f for f, s in zip(X.columns, rfecv.support_) if s]\n",
    "    feature_sets['rfe'] = {'features': selected_features_rfe, 'score': rfecv.grid_scores_[-1]}\n",
    "\n",
    "    mi_selector = SelectKBest(score_func=mutual_info_classif, k=10)\n",
    "    mi_selector.fit(X, y)\n",
    "\n",
    "    selected_features_mi = [f for f, s in zip(X.columns, mi_selector.get_support()) if s]\n",
    "    feature_sets['mutual_info'] = {'features': selected_features_mi, 'score': mi_selector.scores_}\n",
    "\n",
    "    corr_matrix = X.corr().abs()\n",
    "    high_corr_vars = [column for column in corr_matrix.columns if any(corr_matrix[column] > 0.75)]\n",
    "    \n",
    "    selected_features_corr = high_corr_vars\n",
    "    feature_sets['correlation'] = {'features': selected_features_corr, 'score': np.mean([corr_matrix.loc[f, f] for f in high_corr_vars])}\n",
    "\n",
    "    return feature_sets"
   ]
  },
  {
   "cell_type": "code",
   "execution_count": null,
   "id": "dcc0a0a6-04b8-4aec-ae95-193b4a746e02",
   "metadata": {},
   "outputs": [],
   "source": []
  }
 ],
 "metadata": {
  "kernelspec": {
   "display_name": "Python 3 (ipykernel)",
   "language": "python",
   "name": "python3"
  },
  "language_info": {
   "codemirror_mode": {
    "name": "ipython",
    "version": 3
   },
   "file_extension": ".py",
   "mimetype": "text/x-python",
   "name": "python",
   "nbconvert_exporter": "python",
   "pygments_lexer": "ipython3",
   "version": "3.11.4"
  }
 },
 "nbformat": 4,
 "nbformat_minor": 5
}
